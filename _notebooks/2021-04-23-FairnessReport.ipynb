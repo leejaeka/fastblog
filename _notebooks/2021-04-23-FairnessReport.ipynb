{
 "cells": [
  {
   "cell_type": "markdown",
   "metadata": {},
   "source": [
    "# Fairness in Hiring and Salary Statistical Report ⚖️\n",
    "> An analysis of fictional company Black Saber\n",
    "- toc: true\n",
    "- branch: master\n",
    "- badges: true\n",
    "- comments: true\n",
    "- author: Jaekang Lee\n",
    "- categories: [fastpages, r, glmer, data_exploration, data wrangling, report]"
   ]
  },
  {
   "cell_type": "markdown",
   "metadata": {},
   "source": [
    "## [Full Report](https://github.com/leejaeka/black_saber_statistic_reporting)\n",
    "https://github.com/leejaeka/black_saber_statistic_reporting\n",
    "\n",
    "### Here are some sneak peaks!"
   ]
  },
  {
   "cell_type": "markdown",
   "metadata": {},
   "source": [
    "<img src=\"images/black_saber/1.png\">\n",
    "<img src=\"images/black_saber/3.png\">\n",
    "<img src=\"images/black_saber/4.png\">"
   ]
  },
  {
   "cell_type": "code",
   "execution_count": null,
   "metadata": {},
   "outputs": [],
   "source": []
  }
 ],
 "metadata": {
  "kernelspec": {
   "display_name": "Python 3",
   "language": "python",
   "name": "python3"
  },
  "language_info": {
   "codemirror_mode": {
    "name": "ipython",
    "version": 3
   },
   "file_extension": ".py",
   "mimetype": "text/x-python",
   "name": "python",
   "nbconvert_exporter": "python",
   "pygments_lexer": "ipython3",
   "version": "3.8.5"
  }
 },
 "nbformat": 4,
 "nbformat_minor": 4
}
