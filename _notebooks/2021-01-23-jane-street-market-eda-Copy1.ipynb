{
 "cells": [
  {
   "cell_type": "markdown",
   "metadata": {},
   "source": [
    "# Jane Street Market EDA\n",
    "> Jane Street Market Prediction Kaggle Competition\n",
    "\n",
    "- toc: true \n",
    "- badges: true\n",
    "- comments: true\n",
    "- author: Jaekang Lee\n",
    "- categories: [python, EDA, Jane Street, Kaggle, Visualization, Big Data]"
   ]
  },
  {
   "cell_type": "markdown",
   "metadata": {},
   "source": [
    "<img src=\"images/jane_logo.png\">"
   ]
  },
  {
   "cell_type": "markdown",
   "metadata": {},
   "source": [
    "Problem: Maximize profit by choosing to take a trading opportunity or not using 130 anonymized features"
   ]
  },
  {
   "cell_type": "markdown",
   "metadata": {},
   "source": [
    "### Import Library 📂"
   ]
  },
  {
   "cell_type": "code",
   "execution_count": 1,
   "metadata": {
    "_cell_guid": "b1076dfc-b9ad-4769-8c92-a6c4dae69d19",
    "_uuid": "8f2839f25d086af736a60e9eeb907d3b93b6e0e5"
   },
   "outputs": [
    {
     "data": {
      "text/html": [
       "<style type='text/css'>\n",
       ".datatable table.frame { margin-bottom: 0; }\n",
       ".datatable table.frame thead { border-bottom: none; }\n",
       ".datatable table.frame tr.coltypes td {  color: #FFFFFF;  line-height: 6px;  padding: 0 0.5em;}\n",
       ".datatable .bool    { background: #DDDD99; }\n",
       ".datatable .object  { background: #565656; }\n",
       ".datatable .int     { background: #5D9E5D; }\n",
       ".datatable .float   { background: #4040CC; }\n",
       ".datatable .str     { background: #CC4040; }\n",
       ".datatable .row_index {  background: var(--jp-border-color3);  border-right: 1px solid var(--jp-border-color0);  color: var(--jp-ui-font-color3);  font-size: 9px;}\n",
       ".datatable .frame tr.coltypes .row_index {  background: var(--jp-border-color0);}\n",
       ".datatable th:nth-child(2) { padding-left: 12px; }\n",
       ".datatable .hellipsis {  color: var(--jp-cell-editor-border-color);}\n",
       ".datatable .vellipsis {  background: var(--jp-layout-color0);  color: var(--jp-cell-editor-border-color);}\n",
       ".datatable .na {  color: var(--jp-cell-editor-border-color);  font-size: 80%;}\n",
       ".datatable .footer { font-size: 9px; }\n",
       ".datatable .frame_dimensions {  background: var(--jp-border-color3);  border-top: 1px solid var(--jp-border-color0);  color: var(--jp-ui-font-color3);  display: inline-block;  opacity: 0.6;  padding: 1px 10px 1px 5px;}\n",
       "</style>\n"
      ],
      "text/plain": [
       "<IPython.core.display.HTML object>"
      ]
     },
     "metadata": {},
     "output_type": "display_data"
    }
   ],
   "source": [
    "#!pip install datatable > /dev/null\n",
    "import datatable as dt\n",
    "import pandas as pd\n",
    "import seaborn as sns\n",
    "import matplotlib.pyplot as plt\n",
    "import numpy as np\n",
    "import matplotlib.gridspec as gridspec\n",
    "import plotly.express as px\n",
    "import plotly.graph_objects as go\n",
    "from collections import defaultdict\n",
    "# garbage collector to keep RAM in check\n",
    "import gc \n",
    "%matplotlib inline\n",
    "\n",
    "import os\n",
    "for dirname, _, filenames in os.walk('/kaggle/input'):\n",
    "    for filename in filenames:\n",
    "        print(os.path.join(dirname, filename))"
   ]
  },
  {
   "cell_type": "markdown",
   "metadata": {},
   "source": [
    "### Import Data 📚"
   ]
  },
  {
   "cell_type": "code",
   "execution_count": 4,
   "metadata": {},
   "outputs": [],
   "source": [
    "# df = pd.read_csv(\"../input/jane-street-market-prediction/train.csv\")\n",
    "df = dt.fread('../input/train.csv')\n",
    "df = df.to_pandas()"
   ]
  },
  {
   "cell_type": "code",
   "execution_count": 7,
   "metadata": {},
   "outputs": [],
   "source": [
    "feat = pd.read_csv(\"../input/features.csv\")"
   ]
  },
  {
   "cell_type": "code",
   "execution_count": 6,
   "metadata": {
    "_kg_hide-input": true
   },
   "outputs": [
    {
     "name": "stdout",
     "output_type": "stream",
     "text": [
      "df.shape: (2390491, 138)\n",
      "how many days? 500days\n"
     ]
    },
    {
     "data": {
      "text/html": [
       "<div>\n",
       "<style scoped>\n",
       "    .dataframe tbody tr th:only-of-type {\n",
       "        vertical-align: middle;\n",
       "    }\n",
       "\n",
       "    .dataframe tbody tr th {\n",
       "        vertical-align: top;\n",
       "    }\n",
       "\n",
       "    .dataframe thead th {\n",
       "        text-align: right;\n",
       "    }\n",
       "</style>\n",
       "<table border=\"1\" class=\"dataframe\">\n",
       "  <thead>\n",
       "    <tr style=\"text-align: right;\">\n",
       "      <th></th>\n",
       "      <th>date</th>\n",
       "      <th>weight</th>\n",
       "      <th>resp_1</th>\n",
       "      <th>resp_2</th>\n",
       "      <th>resp_3</th>\n",
       "      <th>resp_4</th>\n",
       "      <th>resp</th>\n",
       "      <th>feature_0</th>\n",
       "      <th>feature_1</th>\n",
       "      <th>feature_2</th>\n",
       "      <th>...</th>\n",
       "      <th>feature_121</th>\n",
       "      <th>feature_122</th>\n",
       "      <th>feature_123</th>\n",
       "      <th>feature_124</th>\n",
       "      <th>feature_125</th>\n",
       "      <th>feature_126</th>\n",
       "      <th>feature_127</th>\n",
       "      <th>feature_128</th>\n",
       "      <th>feature_129</th>\n",
       "      <th>ts_id</th>\n",
       "    </tr>\n",
       "  </thead>\n",
       "  <tbody>\n",
       "    <tr>\n",
       "      <th>0</th>\n",
       "      <td>0</td>\n",
       "      <td>0.000000</td>\n",
       "      <td>0.009916</td>\n",
       "      <td>0.014079</td>\n",
       "      <td>0.008773</td>\n",
       "      <td>0.001390</td>\n",
       "      <td>0.006270</td>\n",
       "      <td>1</td>\n",
       "      <td>-1.872746</td>\n",
       "      <td>-2.191242</td>\n",
       "      <td>...</td>\n",
       "      <td>NaN</td>\n",
       "      <td>1.168391</td>\n",
       "      <td>8.313583</td>\n",
       "      <td>1.782433</td>\n",
       "      <td>14.018213</td>\n",
       "      <td>2.653056</td>\n",
       "      <td>12.600292</td>\n",
       "      <td>2.301488</td>\n",
       "      <td>11.445807</td>\n",
       "      <td>0</td>\n",
       "    </tr>\n",
       "    <tr>\n",
       "      <th>1</th>\n",
       "      <td>0</td>\n",
       "      <td>16.673515</td>\n",
       "      <td>-0.002828</td>\n",
       "      <td>-0.003226</td>\n",
       "      <td>-0.007319</td>\n",
       "      <td>-0.011114</td>\n",
       "      <td>-0.009792</td>\n",
       "      <td>-1</td>\n",
       "      <td>-1.349537</td>\n",
       "      <td>-1.704709</td>\n",
       "      <td>...</td>\n",
       "      <td>NaN</td>\n",
       "      <td>-1.178850</td>\n",
       "      <td>1.777472</td>\n",
       "      <td>-0.915458</td>\n",
       "      <td>2.831612</td>\n",
       "      <td>-1.417010</td>\n",
       "      <td>2.297459</td>\n",
       "      <td>-1.304614</td>\n",
       "      <td>1.898684</td>\n",
       "      <td>1</td>\n",
       "    </tr>\n",
       "    <tr>\n",
       "      <th>2</th>\n",
       "      <td>0</td>\n",
       "      <td>0.000000</td>\n",
       "      <td>0.025134</td>\n",
       "      <td>0.027607</td>\n",
       "      <td>0.033406</td>\n",
       "      <td>0.034380</td>\n",
       "      <td>0.023970</td>\n",
       "      <td>-1</td>\n",
       "      <td>0.812780</td>\n",
       "      <td>-0.256156</td>\n",
       "      <td>...</td>\n",
       "      <td>NaN</td>\n",
       "      <td>6.115747</td>\n",
       "      <td>9.667908</td>\n",
       "      <td>5.542871</td>\n",
       "      <td>11.671595</td>\n",
       "      <td>7.281757</td>\n",
       "      <td>10.060014</td>\n",
       "      <td>6.638248</td>\n",
       "      <td>9.427299</td>\n",
       "      <td>2</td>\n",
       "    </tr>\n",
       "    <tr>\n",
       "      <th>3</th>\n",
       "      <td>0</td>\n",
       "      <td>0.000000</td>\n",
       "      <td>-0.004730</td>\n",
       "      <td>-0.003273</td>\n",
       "      <td>-0.000461</td>\n",
       "      <td>-0.000476</td>\n",
       "      <td>-0.003200</td>\n",
       "      <td>-1</td>\n",
       "      <td>1.174378</td>\n",
       "      <td>0.344640</td>\n",
       "      <td>...</td>\n",
       "      <td>NaN</td>\n",
       "      <td>2.838853</td>\n",
       "      <td>0.499251</td>\n",
       "      <td>3.033732</td>\n",
       "      <td>1.513488</td>\n",
       "      <td>4.397532</td>\n",
       "      <td>1.266037</td>\n",
       "      <td>3.856384</td>\n",
       "      <td>1.013469</td>\n",
       "      <td>3</td>\n",
       "    </tr>\n",
       "    <tr>\n",
       "      <th>4</th>\n",
       "      <td>0</td>\n",
       "      <td>0.138531</td>\n",
       "      <td>0.001252</td>\n",
       "      <td>0.002165</td>\n",
       "      <td>-0.001215</td>\n",
       "      <td>-0.006219</td>\n",
       "      <td>-0.002604</td>\n",
       "      <td>1</td>\n",
       "      <td>-3.172026</td>\n",
       "      <td>-3.093182</td>\n",
       "      <td>...</td>\n",
       "      <td>NaN</td>\n",
       "      <td>0.344850</td>\n",
       "      <td>4.101145</td>\n",
       "      <td>0.614252</td>\n",
       "      <td>6.623456</td>\n",
       "      <td>0.800129</td>\n",
       "      <td>5.233243</td>\n",
       "      <td>0.362636</td>\n",
       "      <td>3.926633</td>\n",
       "      <td>4</td>\n",
       "    </tr>\n",
       "  </tbody>\n",
       "</table>\n",
       "<p>5 rows × 138 columns</p>\n",
       "</div>"
      ],
      "text/plain": [
       "   date     weight    resp_1    resp_2    resp_3    resp_4      resp  \\\n",
       "0     0   0.000000  0.009916  0.014079  0.008773  0.001390  0.006270   \n",
       "1     0  16.673515 -0.002828 -0.003226 -0.007319 -0.011114 -0.009792   \n",
       "2     0   0.000000  0.025134  0.027607  0.033406  0.034380  0.023970   \n",
       "3     0   0.000000 -0.004730 -0.003273 -0.000461 -0.000476 -0.003200   \n",
       "4     0   0.138531  0.001252  0.002165 -0.001215 -0.006219 -0.002604   \n",
       "\n",
       "   feature_0  feature_1  feature_2  ...  feature_121  feature_122  \\\n",
       "0          1  -1.872746  -2.191242  ...          NaN     1.168391   \n",
       "1         -1  -1.349537  -1.704709  ...          NaN    -1.178850   \n",
       "2         -1   0.812780  -0.256156  ...          NaN     6.115747   \n",
       "3         -1   1.174378   0.344640  ...          NaN     2.838853   \n",
       "4          1  -3.172026  -3.093182  ...          NaN     0.344850   \n",
       "\n",
       "   feature_123  feature_124  feature_125  feature_126  feature_127  \\\n",
       "0     8.313583     1.782433    14.018213     2.653056    12.600292   \n",
       "1     1.777472    -0.915458     2.831612    -1.417010     2.297459   \n",
       "2     9.667908     5.542871    11.671595     7.281757    10.060014   \n",
       "3     0.499251     3.033732     1.513488     4.397532     1.266037   \n",
       "4     4.101145     0.614252     6.623456     0.800129     5.233243   \n",
       "\n",
       "   feature_128  feature_129  ts_id  \n",
       "0     2.301488    11.445807      0  \n",
       "1    -1.304614     1.898684      1  \n",
       "2     6.638248     9.427299      2  \n",
       "3     3.856384     1.013469      3  \n",
       "4     0.362636     3.926633      4  \n",
       "\n",
       "[5 rows x 138 columns]"
      ]
     },
     "execution_count": 6,
     "metadata": {},
     "output_type": "execute_result"
    }
   ],
   "source": [
    "#hide_input\n",
    "print(\"df.shape: \" + str(df.shape))\n",
    "print(\"how many days? \" + str(len(df.date.unique())) + \"days\")\n",
    "df.head()"
   ]
  },
  {
   "cell_type": "code",
   "execution_count": 7,
   "metadata": {
    "_kg_hide-input": true
   },
   "outputs": [
    {
     "data": {
      "text/html": [
       "<div>\n",
       "<style scoped>\n",
       "    .dataframe tbody tr th:only-of-type {\n",
       "        vertical-align: middle;\n",
       "    }\n",
       "\n",
       "    .dataframe tbody tr th {\n",
       "        vertical-align: top;\n",
       "    }\n",
       "\n",
       "    .dataframe thead th {\n",
       "        text-align: right;\n",
       "    }\n",
       "</style>\n",
       "<table border=\"1\" class=\"dataframe\">\n",
       "  <thead>\n",
       "    <tr style=\"text-align: right;\">\n",
       "      <th></th>\n",
       "      <th>date</th>\n",
       "      <th>weight</th>\n",
       "      <th>resp_1</th>\n",
       "      <th>resp_2</th>\n",
       "      <th>resp_3</th>\n",
       "      <th>resp_4</th>\n",
       "      <th>resp</th>\n",
       "      <th>feature_0</th>\n",
       "      <th>feature_1</th>\n",
       "      <th>feature_2</th>\n",
       "      <th>...</th>\n",
       "      <th>feature_121</th>\n",
       "      <th>feature_122</th>\n",
       "      <th>feature_123</th>\n",
       "      <th>feature_124</th>\n",
       "      <th>feature_125</th>\n",
       "      <th>feature_126</th>\n",
       "      <th>feature_127</th>\n",
       "      <th>feature_128</th>\n",
       "      <th>feature_129</th>\n",
       "      <th>ts_id</th>\n",
       "    </tr>\n",
       "  </thead>\n",
       "  <tbody>\n",
       "    <tr>\n",
       "      <th>count</th>\n",
       "      <td>2.390491e+06</td>\n",
       "      <td>2.390491e+06</td>\n",
       "      <td>2.390491e+06</td>\n",
       "      <td>2.390491e+06</td>\n",
       "      <td>2.390491e+06</td>\n",
       "      <td>2.390491e+06</td>\n",
       "      <td>2.390491e+06</td>\n",
       "      <td>2.390491e+06</td>\n",
       "      <td>2.390491e+06</td>\n",
       "      <td>2.390491e+06</td>\n",
       "      <td>...</td>\n",
       "      <td>2.320637e+06</td>\n",
       "      <td>2.390268e+06</td>\n",
       "      <td>2.390268e+06</td>\n",
       "      <td>2.374408e+06</td>\n",
       "      <td>2.374408e+06</td>\n",
       "      <td>2.381638e+06</td>\n",
       "      <td>2.381638e+06</td>\n",
       "      <td>2.388570e+06</td>\n",
       "      <td>2.388570e+06</td>\n",
       "      <td>2.390491e+06</td>\n",
       "    </tr>\n",
       "    <tr>\n",
       "      <th>mean</th>\n",
       "      <td>2.478668e+02</td>\n",
       "      <td>3.031535e+00</td>\n",
       "      <td>1.434969e-04</td>\n",
       "      <td>1.980749e-04</td>\n",
       "      <td>2.824183e-04</td>\n",
       "      <td>4.350201e-04</td>\n",
       "      <td>4.083113e-04</td>\n",
       "      <td>9.838565e-03</td>\n",
       "      <td>3.855776e-01</td>\n",
       "      <td>3.576875e-01</td>\n",
       "      <td>...</td>\n",
       "      <td>2.687757e-01</td>\n",
       "      <td>3.435523e-01</td>\n",
       "      <td>2.799973e-01</td>\n",
       "      <td>3.351537e-01</td>\n",
       "      <td>2.448752e-01</td>\n",
       "      <td>3.391778e-01</td>\n",
       "      <td>2.323809e-01</td>\n",
       "      <td>3.425608e-01</td>\n",
       "      <td>2.456182e-01</td>\n",
       "      <td>1.195245e+06</td>\n",
       "    </tr>\n",
       "    <tr>\n",
       "      <th>std</th>\n",
       "      <td>1.522746e+02</td>\n",
       "      <td>7.672794e+00</td>\n",
       "      <td>8.930163e-03</td>\n",
       "      <td>1.230236e-02</td>\n",
       "      <td>1.906882e-02</td>\n",
       "      <td>3.291224e-02</td>\n",
       "      <td>2.693609e-02</td>\n",
       "      <td>9.999518e-01</td>\n",
       "      <td>2.559373e+00</td>\n",
       "      <td>2.477335e+00</td>\n",
       "      <td>...</td>\n",
       "      <td>2.174238e+00</td>\n",
       "      <td>2.087842e+00</td>\n",
       "      <td>1.977643e+00</td>\n",
       "      <td>1.742587e+00</td>\n",
       "      <td>2.242853e+00</td>\n",
       "      <td>2.534498e+00</td>\n",
       "      <td>1.795854e+00</td>\n",
       "      <td>2.307130e+00</td>\n",
       "      <td>1.765419e+00</td>\n",
       "      <td>6.900755e+05</td>\n",
       "    </tr>\n",
       "    <tr>\n",
       "      <th>min</th>\n",
       "      <td>0.000000e+00</td>\n",
       "      <td>0.000000e+00</td>\n",
       "      <td>-3.675043e-01</td>\n",
       "      <td>-5.328334e-01</td>\n",
       "      <td>-5.681196e-01</td>\n",
       "      <td>-5.987447e-01</td>\n",
       "      <td>-5.493845e-01</td>\n",
       "      <td>-1.000000e+00</td>\n",
       "      <td>-3.172026e+00</td>\n",
       "      <td>-3.093182e+00</td>\n",
       "      <td>...</td>\n",
       "      <td>-7.471971e+00</td>\n",
       "      <td>-5.862979e+00</td>\n",
       "      <td>-6.029281e+00</td>\n",
       "      <td>-4.080720e+00</td>\n",
       "      <td>-8.136407e+00</td>\n",
       "      <td>-8.215050e+00</td>\n",
       "      <td>-5.765982e+00</td>\n",
       "      <td>-7.024909e+00</td>\n",
       "      <td>-5.282181e+00</td>\n",
       "      <td>0.000000e+00</td>\n",
       "    </tr>\n",
       "    <tr>\n",
       "      <th>25%</th>\n",
       "      <td>1.040000e+02</td>\n",
       "      <td>1.617400e-01</td>\n",
       "      <td>-1.859162e-03</td>\n",
       "      <td>-2.655044e-03</td>\n",
       "      <td>-5.030704e-03</td>\n",
       "      <td>-9.310415e-03</td>\n",
       "      <td>-7.157903e-03</td>\n",
       "      <td>-1.000000e+00</td>\n",
       "      <td>-1.299334e+00</td>\n",
       "      <td>-1.263628e+00</td>\n",
       "      <td>...</td>\n",
       "      <td>-1.123252e+00</td>\n",
       "      <td>-1.114326e+00</td>\n",
       "      <td>-9.512009e-01</td>\n",
       "      <td>-9.133750e-01</td>\n",
       "      <td>-1.212124e+00</td>\n",
       "      <td>-1.452912e+00</td>\n",
       "      <td>-8.993050e-01</td>\n",
       "      <td>-1.278341e+00</td>\n",
       "      <td>-8.544535e-01</td>\n",
       "      <td>5.976225e+05</td>\n",
       "    </tr>\n",
       "    <tr>\n",
       "      <th>50%</th>\n",
       "      <td>2.540000e+02</td>\n",
       "      <td>7.086770e-01</td>\n",
       "      <td>4.552665e-05</td>\n",
       "      <td>6.928179e-05</td>\n",
       "      <td>1.164734e-04</td>\n",
       "      <td>1.222579e-04</td>\n",
       "      <td>8.634997e-05</td>\n",
       "      <td>1.000000e+00</td>\n",
       "      <td>-1.870182e-05</td>\n",
       "      <td>-7.200577e-07</td>\n",
       "      <td>...</td>\n",
       "      <td>0.000000e+00</td>\n",
       "      <td>7.006233e-17</td>\n",
       "      <td>6.054629e-17</td>\n",
       "      <td>4.870826e-17</td>\n",
       "      <td>-2.558675e-16</td>\n",
       "      <td>1.015055e-16</td>\n",
       "      <td>5.419920e-17</td>\n",
       "      <td>8.563069e-17</td>\n",
       "      <td>4.869529e-17</td>\n",
       "      <td>1.195245e+06</td>\n",
       "    </tr>\n",
       "    <tr>\n",
       "      <th>75%</th>\n",
       "      <td>3.820000e+02</td>\n",
       "      <td>2.471791e+00</td>\n",
       "      <td>2.097469e-03</td>\n",
       "      <td>2.939111e-03</td>\n",
       "      <td>5.466336e-03</td>\n",
       "      <td>9.804649e-03</td>\n",
       "      <td>7.544347e-03</td>\n",
       "      <td>1.000000e+00</td>\n",
       "      <td>1.578417e+00</td>\n",
       "      <td>1.526399e+00</td>\n",
       "      <td>...</td>\n",
       "      <td>1.342829e+00</td>\n",
       "      <td>1.405926e+00</td>\n",
       "      <td>1.308625e+00</td>\n",
       "      <td>1.228277e+00</td>\n",
       "      <td>1.409687e+00</td>\n",
       "      <td>1.767275e+00</td>\n",
       "      <td>1.111491e+00</td>\n",
       "      <td>1.582633e+00</td>\n",
       "      <td>1.125321e+00</td>\n",
       "      <td>1.792868e+06</td>\n",
       "    </tr>\n",
       "    <tr>\n",
       "      <th>max</th>\n",
       "      <td>4.990000e+02</td>\n",
       "      <td>1.672937e+02</td>\n",
       "      <td>2.453477e-01</td>\n",
       "      <td>2.949339e-01</td>\n",
       "      <td>3.265597e-01</td>\n",
       "      <td>5.113795e-01</td>\n",
       "      <td>4.484616e-01</td>\n",
       "      <td>1.000000e+00</td>\n",
       "      <td>7.442989e+01</td>\n",
       "      <td>1.480763e+02</td>\n",
       "      <td>...</td>\n",
       "      <td>1.107771e+02</td>\n",
       "      <td>4.812516e+01</td>\n",
       "      <td>1.276908e+02</td>\n",
       "      <td>6.514517e+01</td>\n",
       "      <td>7.052807e+01</td>\n",
       "      <td>5.872849e+01</td>\n",
       "      <td>6.932221e+01</td>\n",
       "      <td>5.119038e+01</td>\n",
       "      <td>1.164568e+02</td>\n",
       "      <td>2.390490e+06</td>\n",
       "    </tr>\n",
       "  </tbody>\n",
       "</table>\n",
       "<p>8 rows × 138 columns</p>\n",
       "</div>"
      ],
      "text/plain": [
       "               date        weight        resp_1        resp_2        resp_3  \\\n",
       "count  2.390491e+06  2.390491e+06  2.390491e+06  2.390491e+06  2.390491e+06   \n",
       "mean   2.478668e+02  3.031535e+00  1.434969e-04  1.980749e-04  2.824183e-04   \n",
       "std    1.522746e+02  7.672794e+00  8.930163e-03  1.230236e-02  1.906882e-02   \n",
       "min    0.000000e+00  0.000000e+00 -3.675043e-01 -5.328334e-01 -5.681196e-01   \n",
       "25%    1.040000e+02  1.617400e-01 -1.859162e-03 -2.655044e-03 -5.030704e-03   \n",
       "50%    2.540000e+02  7.086770e-01  4.552665e-05  6.928179e-05  1.164734e-04   \n",
       "75%    3.820000e+02  2.471791e+00  2.097469e-03  2.939111e-03  5.466336e-03   \n",
       "max    4.990000e+02  1.672937e+02  2.453477e-01  2.949339e-01  3.265597e-01   \n",
       "\n",
       "             resp_4          resp     feature_0     feature_1     feature_2  \\\n",
       "count  2.390491e+06  2.390491e+06  2.390491e+06  2.390491e+06  2.390491e+06   \n",
       "mean   4.350201e-04  4.083113e-04  9.838565e-03  3.855776e-01  3.576875e-01   \n",
       "std    3.291224e-02  2.693609e-02  9.999518e-01  2.559373e+00  2.477335e+00   \n",
       "min   -5.987447e-01 -5.493845e-01 -1.000000e+00 -3.172026e+00 -3.093182e+00   \n",
       "25%   -9.310415e-03 -7.157903e-03 -1.000000e+00 -1.299334e+00 -1.263628e+00   \n",
       "50%    1.222579e-04  8.634997e-05  1.000000e+00 -1.870182e-05 -7.200577e-07   \n",
       "75%    9.804649e-03  7.544347e-03  1.000000e+00  1.578417e+00  1.526399e+00   \n",
       "max    5.113795e-01  4.484616e-01  1.000000e+00  7.442989e+01  1.480763e+02   \n",
       "\n",
       "       ...   feature_121   feature_122   feature_123   feature_124  \\\n",
       "count  ...  2.320637e+06  2.390268e+06  2.390268e+06  2.374408e+06   \n",
       "mean   ...  2.687757e-01  3.435523e-01  2.799973e-01  3.351537e-01   \n",
       "std    ...  2.174238e+00  2.087842e+00  1.977643e+00  1.742587e+00   \n",
       "min    ... -7.471971e+00 -5.862979e+00 -6.029281e+00 -4.080720e+00   \n",
       "25%    ... -1.123252e+00 -1.114326e+00 -9.512009e-01 -9.133750e-01   \n",
       "50%    ...  0.000000e+00  7.006233e-17  6.054629e-17  4.870826e-17   \n",
       "75%    ...  1.342829e+00  1.405926e+00  1.308625e+00  1.228277e+00   \n",
       "max    ...  1.107771e+02  4.812516e+01  1.276908e+02  6.514517e+01   \n",
       "\n",
       "        feature_125   feature_126   feature_127   feature_128   feature_129  \\\n",
       "count  2.374408e+06  2.381638e+06  2.381638e+06  2.388570e+06  2.388570e+06   \n",
       "mean   2.448752e-01  3.391778e-01  2.323809e-01  3.425608e-01  2.456182e-01   \n",
       "std    2.242853e+00  2.534498e+00  1.795854e+00  2.307130e+00  1.765419e+00   \n",
       "min   -8.136407e+00 -8.215050e+00 -5.765982e+00 -7.024909e+00 -5.282181e+00   \n",
       "25%   -1.212124e+00 -1.452912e+00 -8.993050e-01 -1.278341e+00 -8.544535e-01   \n",
       "50%   -2.558675e-16  1.015055e-16  5.419920e-17  8.563069e-17  4.869529e-17   \n",
       "75%    1.409687e+00  1.767275e+00  1.111491e+00  1.582633e+00  1.125321e+00   \n",
       "max    7.052807e+01  5.872849e+01  6.932221e+01  5.119038e+01  1.164568e+02   \n",
       "\n",
       "              ts_id  \n",
       "count  2.390491e+06  \n",
       "mean   1.195245e+06  \n",
       "std    6.900755e+05  \n",
       "min    0.000000e+00  \n",
       "25%    5.976225e+05  \n",
       "50%    1.195245e+06  \n",
       "75%    1.792868e+06  \n",
       "max    2.390490e+06  \n",
       "\n",
       "[8 rows x 138 columns]"
      ]
     },
     "execution_count": 7,
     "metadata": {},
     "output_type": "execute_result"
    }
   ],
   "source": [
    "df.describe()"
   ]
  },
  {
   "cell_type": "code",
   "execution_count": 8,
   "metadata": {},
   "outputs": [
    {
     "data": {
      "text/html": [
       "<div>\n",
       "<style scoped>\n",
       "    .dataframe tbody tr th:only-of-type {\n",
       "        vertical-align: middle;\n",
       "    }\n",
       "\n",
       "    .dataframe tbody tr th {\n",
       "        vertical-align: top;\n",
       "    }\n",
       "\n",
       "    .dataframe thead th {\n",
       "        text-align: right;\n",
       "    }\n",
       "</style>\n",
       "<table border=\"1\" class=\"dataframe\">\n",
       "  <thead>\n",
       "    <tr style=\"text-align: right;\">\n",
       "      <th></th>\n",
       "      <th>feature</th>\n",
       "      <th>tag_0</th>\n",
       "      <th>tag_1</th>\n",
       "      <th>tag_2</th>\n",
       "      <th>tag_3</th>\n",
       "      <th>tag_4</th>\n",
       "      <th>tag_5</th>\n",
       "      <th>tag_6</th>\n",
       "      <th>tag_7</th>\n",
       "      <th>tag_8</th>\n",
       "      <th>...</th>\n",
       "      <th>tag_19</th>\n",
       "      <th>tag_20</th>\n",
       "      <th>tag_21</th>\n",
       "      <th>tag_22</th>\n",
       "      <th>tag_23</th>\n",
       "      <th>tag_24</th>\n",
       "      <th>tag_25</th>\n",
       "      <th>tag_26</th>\n",
       "      <th>tag_27</th>\n",
       "      <th>tag_28</th>\n",
       "    </tr>\n",
       "  </thead>\n",
       "  <tbody>\n",
       "    <tr>\n",
       "      <th>count</th>\n",
       "      <td>130</td>\n",
       "      <td>130</td>\n",
       "      <td>130</td>\n",
       "      <td>130</td>\n",
       "      <td>130</td>\n",
       "      <td>130</td>\n",
       "      <td>130</td>\n",
       "      <td>130</td>\n",
       "      <td>130</td>\n",
       "      <td>130</td>\n",
       "      <td>...</td>\n",
       "      <td>130</td>\n",
       "      <td>130</td>\n",
       "      <td>130</td>\n",
       "      <td>130</td>\n",
       "      <td>130</td>\n",
       "      <td>130</td>\n",
       "      <td>130</td>\n",
       "      <td>130</td>\n",
       "      <td>130</td>\n",
       "      <td>130</td>\n",
       "    </tr>\n",
       "    <tr>\n",
       "      <th>unique</th>\n",
       "      <td>130</td>\n",
       "      <td>2</td>\n",
       "      <td>2</td>\n",
       "      <td>2</td>\n",
       "      <td>2</td>\n",
       "      <td>2</td>\n",
       "      <td>2</td>\n",
       "      <td>2</td>\n",
       "      <td>2</td>\n",
       "      <td>2</td>\n",
       "      <td>...</td>\n",
       "      <td>2</td>\n",
       "      <td>2</td>\n",
       "      <td>2</td>\n",
       "      <td>2</td>\n",
       "      <td>2</td>\n",
       "      <td>2</td>\n",
       "      <td>2</td>\n",
       "      <td>2</td>\n",
       "      <td>2</td>\n",
       "      <td>2</td>\n",
       "    </tr>\n",
       "    <tr>\n",
       "      <th>top</th>\n",
       "      <td>feature_72</td>\n",
       "      <td>False</td>\n",
       "      <td>False</td>\n",
       "      <td>False</td>\n",
       "      <td>False</td>\n",
       "      <td>False</td>\n",
       "      <td>False</td>\n",
       "      <td>False</td>\n",
       "      <td>False</td>\n",
       "      <td>False</td>\n",
       "      <td>...</td>\n",
       "      <td>False</td>\n",
       "      <td>False</td>\n",
       "      <td>False</td>\n",
       "      <td>False</td>\n",
       "      <td>False</td>\n",
       "      <td>False</td>\n",
       "      <td>False</td>\n",
       "      <td>False</td>\n",
       "      <td>False</td>\n",
       "      <td>False</td>\n",
       "    </tr>\n",
       "    <tr>\n",
       "      <th>freq</th>\n",
       "      <td>1</td>\n",
       "      <td>113</td>\n",
       "      <td>113</td>\n",
       "      <td>113</td>\n",
       "      <td>113</td>\n",
       "      <td>113</td>\n",
       "      <td>122</td>\n",
       "      <td>90</td>\n",
       "      <td>128</td>\n",
       "      <td>128</td>\n",
       "      <td>...</td>\n",
       "      <td>123</td>\n",
       "      <td>125</td>\n",
       "      <td>125</td>\n",
       "      <td>121</td>\n",
       "      <td>82</td>\n",
       "      <td>118</td>\n",
       "      <td>118</td>\n",
       "      <td>118</td>\n",
       "      <td>118</td>\n",
       "      <td>118</td>\n",
       "    </tr>\n",
       "  </tbody>\n",
       "</table>\n",
       "<p>4 rows × 30 columns</p>\n",
       "</div>"
      ],
      "text/plain": [
       "           feature  tag_0  tag_1  tag_2  tag_3  tag_4  tag_5  tag_6  tag_7  \\\n",
       "count          130    130    130    130    130    130    130    130    130   \n",
       "unique         130      2      2      2      2      2      2      2      2   \n",
       "top     feature_72  False  False  False  False  False  False  False  False   \n",
       "freq             1    113    113    113    113    113    122     90    128   \n",
       "\n",
       "        tag_8  ... tag_19 tag_20 tag_21 tag_22 tag_23 tag_24 tag_25 tag_26  \\\n",
       "count     130  ...    130    130    130    130    130    130    130    130   \n",
       "unique      2  ...      2      2      2      2      2      2      2      2   \n",
       "top     False  ...  False  False  False  False  False  False  False  False   \n",
       "freq      128  ...    123    125    125    121     82    118    118    118   \n",
       "\n",
       "       tag_27 tag_28  \n",
       "count     130    130  \n",
       "unique      2      2  \n",
       "top     False  False  \n",
       "freq      118    118  \n",
       "\n",
       "[4 rows x 30 columns]"
      ]
     },
     "execution_count": 8,
     "metadata": {},
     "output_type": "execute_result"
    }
   ],
   "source": [
    "feat.describe()"
   ]
  },
  {
   "cell_type": "markdown",
   "metadata": {},
   "source": [
    "### Cleaning Data 🧹"
   ]
  },
  {
   "cell_type": "code",
   "execution_count": 9,
   "metadata": {
    "_kg_hide-input": true
   },
   "outputs": [
    {
     "name": "stdout",
     "output_type": "stream",
     "text": [
      "There are 88 many cols with at least one null value\n",
      "{'feature_108', 'feature_91', 'feature_115', 'feature_128', 'feature_93', 'feature_33', 'feature_24', 'feature_4', 'feature_79', 'feature_28', 'feature_19', 'feature_88', 'feature_56', 'feature_117', 'feature_31', 'feature_21', 'feature_7', 'feature_94', 'feature_16', 'feature_76', 'feature_96', 'feature_12', 'feature_55', 'feature_29', 'feature_120', 'feature_35', 'feature_124', 'feature_32', 'feature_74', 'feature_17', 'feature_116', 'feature_97', 'feature_86', 'feature_105', 'feature_127', 'feature_36', 'feature_99', 'feature_34', 'feature_104', 'feature_10', 'feature_100', 'feature_58', 'feature_87', 'feature_111', 'feature_122', 'feature_80', 'feature_78', 'feature_25', 'feature_18', 'feature_59', 'feature_26', 'feature_73', 'feature_92', 'feature_15', 'feature_81', 'feature_27', 'feature_13', 'feature_112', 'feature_109', 'feature_125', 'feature_3', 'feature_98', 'feature_82', 'feature_84', 'feature_45', 'feature_90', 'feature_9', 'feature_8', 'feature_118', 'feature_75', 'feature_123', 'feature_22', 'feature_11', 'feature_23', 'feature_44', 'feature_20', 'feature_114', 'feature_106', 'feature_14', 'feature_102', 'feature_129', 'feature_110', 'feature_85', 'feature_126', 'feature_121', 'feature_30', 'feature_103', 'feature_72'}\n"
     ]
    }
   ],
   "source": [
    "#hide_input\n",
    "has_nulls = set(df.columns[df.isnull().sum()!=0])\n",
    "print(\"There are \"+str(len(has_nulls))+\" many cols with at least one null value\")\n",
    "print(has_nulls)"
   ]
  },
  {
   "cell_type": "markdown",
   "metadata": {},
   "source": [
    "A lot of the histogram with null values has extreme outliers. It would be safe to fill the null values with medians. Other imputation method considered were mean and KNN-Imputation. Check out my other notebook where KNN-Imputation was used to train MLP.\n"
   ]
  },
  {
   "cell_type": "markdown",
   "metadata": {},
   "source": [
    "If we just remove all nans, we would be removing more than 16.54% of the dataset."
   ]
  },
  {
   "cell_type": "code",
   "execution_count": null,
   "metadata": {
    "_kg_hide-input": true
   },
   "outputs": [],
   "source": [
    "#hide_input\n",
    "df = df.apply(lambda x: x.fillna(x.median()),axis=0)\n",
    "print(\"Number of features with null values after median imputation: \",np.sum(df.isna().sum()>0))"
   ]
  },
  {
   "cell_type": "markdown",
   "metadata": {},
   "source": [
    "Interesting points so far:\n",
    "- feature_0 is binary.\n",
    "- A lot of features seems to be normally distributed.\n",
    "- A lot of missing values. "
   ]
  },
  {
   "cell_type": "markdown",
   "metadata": {},
   "source": [
    "### Plots & Visualization 📊"
   ]
  },
  {
   "cell_type": "markdown",
   "metadata": {},
   "source": [
    "#### resp, resp_1, resp_2, resp_3, resp_4"
   ]
  },
  {
   "cell_type": "markdown",
   "metadata": {},
   "source": [
    "We can see that resp is closely related to resp_4 (blue and purple). Resp_1 and resp_2 also seem to be closely related but much much linear. Resp_3 seem to be in the middle, where the shape is closer to upper group but position is slightly closer to green and orange."
   ]
  },
  {
   "cell_type": "markdown",
   "metadata": {},
   "source": [
    "#### Weights"
   ]
  },
  {
   "cell_type": "markdown",
   "metadata": {},
   "source": [
    "Note: **weight** and **resp** multiplied together represents a return on the trade."
   ]
  },
  {
   "cell_type": "markdown",
   "metadata": {},
   "source": [
    "We can see that most weights are around 0.2 and we can see two 'peaks' which is around 0.2 and 0.3. Note that maximum weight was 167.29 represented by 1.0 on x-axis. Thus 0.2 represents around 33.458 and 0.3 represents around 50.187."
   ]
  },
  {
   "cell_type": "markdown",
   "metadata": {},
   "source": [
    "Note that the graph plots all the positive gains. (Our 1's for our action column). So we can see that there were 'bigger' gains in the beginning and as time approach 500, the gain becomes smaller. In conclusion, the earlier trades are much bigger but we don't know what it's going to be like in our competition test set. "
   ]
  },
  {
   "cell_type": "markdown",
   "metadata": {},
   "source": [
    "We know that we probability want to invest more 'weight' if there are bigger 'resp'(return). We learn here that higher weights are only when resp is close to 0. In other words, it is dumb to trade if resp is away from 0 but it is safe to invest even a lot if it is near 0."
   ]
  },
  {
   "cell_type": "markdown",
   "metadata": {},
   "source": [
    "In the Kaggle community, there's been lots of discussion on how the trends changed significantly since day ~85. We can see much more trades happening before day 100. Rest of the days are still very active but not as noisy. We can suggest that there has been a change of trading model from Jane Street as discussed [here](https://www.kaggle.com/c/jane-street-market-prediction/discussion/201930) by [Carl](https://www.kaggle.com/carlmcbrideellis)."
   ]
  },
  {
   "cell_type": "markdown",
   "metadata": {},
   "source": [
    "Let us look at the most important feature, 'feature_0'"
   ]
  },
  {
   "cell_type": "code",
   "execution_count": 14,
   "metadata": {},
   "outputs": [
    {
     "data": {
      "text/plain": [
       " 1    1207005\n",
       "-1    1183486\n",
       "Name: feature_0, dtype: int64"
      ]
     },
     "execution_count": 14,
     "metadata": {},
     "output_type": "execute_result"
    }
   ],
   "source": [
    "df['feature_0'].value_counts()"
   ]
  },
  {
   "cell_type": "markdown",
   "metadata": {},
   "source": [
    "Interestingly, when feature_0 is 1, plot shows negative slope while in contrast, when feature_0 is -1, plot shows positive slope. My guess is that feature_0 corresponds to Buy(1) and Sell(-1) or vice versa. So if we set action to 1 with feature_0 = 1 then we are selling and when we set action to 0 with feature_0 = -1, then we are buying. This makes sense since whether we are buying or selling we can still lose or gain profit."
   ]
  },
  {
   "cell_type": "markdown",
   "metadata": {},
   "source": [
    "#### Features"
   ]
  },
  {
   "cell_type": "markdown",
   "metadata": {},
   "source": [
    "Remember that we have another file called features.csv. Which can help us understand 100+ features and maybe cluster into groups. Let's take a look. <br>\n",
    "<img src=\"images/tags.png\">"
   ]
  },
  {
   "cell_type": "code",
   "execution_count": 1,
   "metadata": {},
   "outputs": [],
   "source": [
    "#hide_input\n",
    "# fig = px.bar(feat.set_index('feature').T.sum(), title='Number of tags for each feature')\n",
    "\n",
    "# fig.layout.xaxis.tickangle = 300\n",
    "# fig.update_traces( showlegend = False)\n",
    "# fig.layout.xaxis. dtick = 5\n",
    "# fig.layout.xaxis.title = ''\n",
    "# fig.layout.yaxis.title = ''\n",
    "# fig.show()"
   ]
  },
  {
   "cell_type": "markdown",
   "metadata": {},
   "source": [
    "Let us see what tag_0 groups tells us."
   ]
  },
  {
   "cell_type": "markdown",
   "metadata": {},
   "source": [
    "Correlation between features of tag_0. It looks like there certainly are correlation between elements of the group except a few."
   ]
  },
  {
   "cell_type": "markdown",
   "metadata": {},
   "source": [
    "Interesting points:\n",
    "- feature_0 has no tags\n",
    "- feature 79 to 119 all has 4 tags\n",
    "- feature 7 to 36 have 3 and 4 tags periodically\n",
    "- Similar trend between 2 to 7, 37 to 40, 120 to 129\n",
    "- tag_n doesn't tell too much about the features"
   ]
  },
  {
   "cell_type": "markdown",
   "metadata": {},
   "source": [
    "### Reference 📖\n",
    "- [Jane Street: EDA of day 0 and feature importance](https://www.kaggle.com/carlmcbrideellis/jane-street-eda-of-day-0-and-feature-importance)\n",
    "- [Jane_street_Extensive_EDA & PCA starter 📊⚡](https://www.kaggle.com/muhammadmelsherbini/jane-street-extensive-eda-pca-starter)\n",
    "- [EDA / A Quant's Prespective](https://www.kaggle.com/hamzashabbirbhatti/eda-a-quant-s-prespective#Weight)"
   ]
  },
  {
   "cell_type": "markdown",
   "metadata": {},
   "source": [
    "### Submission"
   ]
  },
  {
   "cell_type": "markdown",
   "metadata": {},
   "source": [
    "In another notebook. Thoughts going into predicting phase.\n",
    "1. Days before ~100 can be dropped as suspicion of model shift.\n",
    "2. Feature_0 seem very important to find slope of cummulative resp.\n",
    "3. Resp near 0 is prefered over other values.\n",
    "4. A lot of features are normally distributed.\n",
    "5. We have over 2 million datas, it would be safe to add lot more features(feature enginerring)\n",
    "6. There are a lot of missing values too. Can try mean, median or KNN imputation methods.\n",
    "7. Note that although this is kind of a time series data, we can only predict with features 0 to 129\n"
   ]
  },
  {
   "cell_type": "code",
   "execution_count": null,
   "metadata": {},
   "outputs": [],
   "source": []
  }
 ],
 "metadata": {
  "kernelspec": {
   "display_name": "Python 3",
   "language": "python",
   "name": "python3"
  },
  "language_info": {
   "codemirror_mode": {
    "name": "ipython",
    "version": 3
   },
   "file_extension": ".py",
   "mimetype": "text/x-python",
   "name": "python",
   "nbconvert_exporter": "python",
   "pygments_lexer": "ipython3",
   "version": "3.8.5"
  }
 },
 "nbformat": 4,
 "nbformat_minor": 4
}
