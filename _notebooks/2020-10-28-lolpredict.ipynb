{
 "cells": [
  {
   "cell_type": "markdown",
   "metadata": {},
   "source": [
    "# LoL Prediction S10\n",
    "> LOL s10 high elo ranked games prediction.\n",
    "\n",
    "- toc: true \n",
    "- badges: true\n",
    "- comments: true\n",
    "- author: Jaekang Lee\n",
    "- image: images/diagram.png\n",
    "- categories: [fastpages, jupyter]",
    "## Introduction"
   ]
  },
  {
   "cell_type": "markdown",
   "metadata": {},
   "source": [
    "Let's predict who won the match given team composition and how long game played out"
   ]
  },
  {
   "cell_type": "markdown",
   "metadata": {},
   "source": [
    "## Get dataset"
   ]
  },
  {
   "cell_type": "code",
   "execution_count": 205,
   "metadata": {},
   "outputs": [],
   "source": [
    "import pandas as pd\n",
    "df = pd.read_csv(\"games.csv\")"
   ]
  },
  {
   "cell_type": "markdown",
   "metadata": {},
   "source": [
    "Some Setups"
   ]
  },
  {
   "cell_type": "code",
   "execution_count": 185,
   "metadata": {},
   "outputs": [
    {
     "name": "stdout",
     "output_type": "stream",
     "text": [
      "The tensorboard extension is already loaded. To reload it, use:\n",
      "  %reload_ext tensorboard\n"
     ]
    }
   ],
   "source": [
    "# Python ≥3.5 is required\n",
    "import sys\n",
    "assert sys.version_info >= (3, 5)\n",
    "\n",
    "# Scikit-Learn ≥0.20 is required\n",
    "import sklearn\n",
    "assert sklearn.__version__ >= \"0.20\"\n",
    "\n",
    "try:\n",
    "    # %tensorflow_version only exists in Colab.\n",
    "    %tensorflow_version 2.x\n",
    "except Exception:\n",
    "    pass\n",
    "\n",
    "# TensorFlow ≥2.0 is required\n",
    "import tensorflow as tf\n",
    "from tensorflow import keras\n",
    "assert tf.__version__ >= \"2.0\"\n",
    "\n",
    "%load_ext tensorboard\n",
    "\n",
    "# Common imports\n",
    "import numpy as np\n",
    "import os\n",
    "\n",
    "# to make this notebook's output stable across runs\n",
    "np.random.seed(42)\n",
    "\n",
    "# To plot pretty figures\n",
    "%matplotlib inline\n",
    "import matplotlib as mpl\n",
    "import matplotlib.pyplot as plt\n",
    "mpl.rc('axes', labelsize=14)\n",
    "mpl.rc('xtick', labelsize=12)\n",
    "mpl.rc('ytick', labelsize=12)\n",
    "\n",
    "# Where to save the figures\n",
    "PROJECT_ROOT_DIR = \".\"\n",
    "CHAPTER_ID = \"deep\"\n",
    "IMAGES_PATH = os.path.join(PROJECT_ROOT_DIR, \"images\", CHAPTER_ID)\n",
    "os.makedirs(IMAGES_PATH, exist_ok=True)\n",
    "\n",
    "def save_fig(fig_id, tight_layout=True, fig_extension=\"png\", resolution=300):\n",
    "    path = os.path.join(IMAGES_PATH, fig_id + \".\" + fig_extension)\n",
    "    print(\"Saving figure\", fig_id)\n",
    "    if tight_layout:\n",
    "        plt.tight_layout()\n",
    "    plt.savefig(path, format=fig_extension, dpi=resolution)"
   ]
  },
  {
   "cell_type": "code",
   "execution_count": 186,
   "metadata": {},
   "outputs": [
    {
     "data": {
      "text/html": [
       "<div>\n",
       "<style scoped>\n",
       "    .dataframe tbody tr th:only-of-type {\n",
       "        vertical-align: middle;\n",
       "    }\n",
       "\n",
       "    .dataframe tbody tr th {\n",
       "        vertical-align: top;\n",
       "    }\n",
       "\n",
       "    .dataframe thead th {\n",
       "        text-align: right;\n",
       "    }\n",
       "</style>\n",
       "<table border=\"1\" class=\"dataframe\">\n",
       "  <thead>\n",
       "    <tr style=\"text-align: right;\">\n",
       "      <th></th>\n",
       "      <th>game_length</th>\n",
       "      <th>mmr</th>\n",
       "      <th>result</th>\n",
       "      <th>server</th>\n",
       "      <th>team_1</th>\n",
       "      <th>team_2</th>\n",
       "      <th>timestamp</th>\n",
       "    </tr>\n",
       "  </thead>\n",
       "  <tbody>\n",
       "    <tr>\n",
       "      <th>0</th>\n",
       "      <td>25m 38s</td>\n",
       "      <td>NaN</td>\n",
       "      <td>Victory</td>\n",
       "      <td>na</td>\n",
       "      <td>Riven,Nidalee,Galio,Jhin,Pantheon</td>\n",
       "      <td>Camille,Olaf,Cassiopeia,Ezreal,Alistar</td>\n",
       "      <td>2020-10-13 09:31:42</td>\n",
       "    </tr>\n",
       "    <tr>\n",
       "      <th>1</th>\n",
       "      <td>25m 38s</td>\n",
       "      <td>NaN</td>\n",
       "      <td>Defeat</td>\n",
       "      <td>na</td>\n",
       "      <td>Teemo,Nidalee,Lucian,Caitlyn,Senna</td>\n",
       "      <td>Irelia,Hecarim,Cassiopeia,Jinx,Lulu</td>\n",
       "      <td>2020-10-13 06:00:17</td>\n",
       "    </tr>\n",
       "    <tr>\n",
       "      <th>2</th>\n",
       "      <td>25m 38s</td>\n",
       "      <td>NaN</td>\n",
       "      <td>Defeat</td>\n",
       "      <td>na</td>\n",
       "      <td>Malphite,Olaf,Taliyah,Ezreal,Alistar</td>\n",
       "      <td>Sylas,Lillia,Lucian,Senna,Pantheon</td>\n",
       "      <td>2020-10-13 05:06:45</td>\n",
       "    </tr>\n",
       "    <tr>\n",
       "      <th>3</th>\n",
       "      <td>25m 38s</td>\n",
       "      <td>NaN</td>\n",
       "      <td>Defeat</td>\n",
       "      <td>na</td>\n",
       "      <td>Neeko,Shen,Orianna,Kai'Sa,Nautilus</td>\n",
       "      <td>Riven,Hecarim,Cassiopeia,Samira,Morgana</td>\n",
       "      <td>2020-10-13 04:28:00</td>\n",
       "    </tr>\n",
       "    <tr>\n",
       "      <th>4</th>\n",
       "      <td>25m 38s</td>\n",
       "      <td>NaN</td>\n",
       "      <td>Defeat</td>\n",
       "      <td>na</td>\n",
       "      <td>Fiora,Nunu &amp; Willump,Irelia,Jhin,Karma</td>\n",
       "      <td>Renekton,Elise,Kled,Jinx,Morgana</td>\n",
       "      <td>2020-10-13 04:00:51</td>\n",
       "    </tr>\n",
       "  </tbody>\n",
       "</table>\n",
       "</div>"
      ],
      "text/plain": [
       "  game_length  mmr   result server                                  team_1  \\\n",
       "0     25m 38s  NaN  Victory     na       Riven,Nidalee,Galio,Jhin,Pantheon   \n",
       "1     25m 38s  NaN   Defeat     na      Teemo,Nidalee,Lucian,Caitlyn,Senna   \n",
       "2     25m 38s  NaN   Defeat     na    Malphite,Olaf,Taliyah,Ezreal,Alistar   \n",
       "3     25m 38s  NaN   Defeat     na      Neeko,Shen,Orianna,Kai'Sa,Nautilus   \n",
       "4     25m 38s  NaN   Defeat     na  Fiora,Nunu & Willump,Irelia,Jhin,Karma   \n",
       "\n",
       "                                    team_2            timestamp  \n",
       "0   Camille,Olaf,Cassiopeia,Ezreal,Alistar  2020-10-13 09:31:42  \n",
       "1      Irelia,Hecarim,Cassiopeia,Jinx,Lulu  2020-10-13 06:00:17  \n",
       "2       Sylas,Lillia,Lucian,Senna,Pantheon  2020-10-13 05:06:45  \n",
       "3  Riven,Hecarim,Cassiopeia,Samira,Morgana  2020-10-13 04:28:00  \n",
       "4         Renekton,Elise,Kled,Jinx,Morgana  2020-10-13 04:00:51  "
      ]
     },
     "execution_count": 186,
     "metadata": {},
     "output_type": "execute_result"
    }
   ],
   "source": [
    "df.head(5)"
   ]
  },
  {
   "cell_type": "code",
   "execution_count": 206,
   "metadata": {
    "scrolled": true
   },
   "outputs": [],
   "source": [
    "temp_df = df[['game_length', 'result', 'team_1', 'team_2']] # Select only interests\n",
    "blue = temp_df['team_1']\n",
    "red = temp_df['team_2']\n",
    "n = len(df)\n",
    "\n",
    "blue_champs = []\n",
    "red_champs = []\n",
    "for i in range(0,n):\n",
    "    blue_champs += [blue[i].split(',')]\n",
    "    red_champs += [red[i].split(',')]\n",
    "    \n",
    "top = []\n",
    "jg = []\n",
    "mid = []\n",
    "adc = []\n",
    "sup = []\n",
    "for i in range(0, n):\n",
    "    top += [blue_champs[i][0]]\n",
    "    jg += [blue_champs[i][1]]\n",
    "    mid += [blue_champs[i][2]]\n",
    "    adc += [blue_champs[i][3]]\n",
    "    sup += [blue_champs[i][4]]\n",
    "    \n",
    "top_2 = []\n",
    "jg_2 = []\n",
    "mid_2 = []\n",
    "adc_2 = []\n",
    "sup_2 = []\n",
    "for i in range(0, n):\n",
    "    top_2 += [red_champs[i][0]]\n",
    "    jg_2 += [red_champs[i][1]]\n",
    "    mid_2 += [red_champs[i][2]]\n",
    "    adc_2 += [red_champs[i][3]]\n",
    "    sup_2 += [red_champs[i][4]]"
   ]
  },
  {
   "cell_type": "code",
   "execution_count": 207,
   "metadata": {},
   "outputs": [],
   "source": [
    "data = temp_df.drop(columns=['team_1','team_2'])\n",
    "# blue team\n",
    "data['top1'] = top\n",
    "data['jg1'] = jg\n",
    "data['mid1'] = mid\n",
    "data['adc1'] = adc\n",
    "data['sup1'] = sup\n",
    "# red team\n",
    "data['top2'] = top_2\n",
    "data['jg2'] = jg_2\n",
    "data['mid2'] = mid_2\n",
    "data['adc2'] = adc_2\n",
    "data['sup2'] = sup_2"
   ]
  },
  {
   "cell_type": "code",
   "execution_count": 208,
   "metadata": {},
   "outputs": [
    {
     "data": {
      "text/html": [
       "<div>\n",
       "<style scoped>\n",
       "    .dataframe tbody tr th:only-of-type {\n",
       "        vertical-align: middle;\n",
       "    }\n",
       "\n",
       "    .dataframe tbody tr th {\n",
       "        vertical-align: top;\n",
       "    }\n",
       "\n",
       "    .dataframe thead th {\n",
       "        text-align: right;\n",
       "    }\n",
       "</style>\n",
       "<table border=\"1\" class=\"dataframe\">\n",
       "  <thead>\n",
       "    <tr style=\"text-align: right;\">\n",
       "      <th></th>\n",
       "      <th>game_length</th>\n",
       "      <th>result</th>\n",
       "      <th>top1</th>\n",
       "      <th>jg1</th>\n",
       "      <th>mid1</th>\n",
       "      <th>adc1</th>\n",
       "      <th>sup1</th>\n",
       "      <th>top2</th>\n",
       "      <th>jg2</th>\n",
       "      <th>mid2</th>\n",
       "      <th>adc2</th>\n",
       "      <th>sup2</th>\n",
       "    </tr>\n",
       "  </thead>\n",
       "  <tbody>\n",
       "    <tr>\n",
       "      <th>0</th>\n",
       "      <td>25m 38s</td>\n",
       "      <td>Victory</td>\n",
       "      <td>Riven</td>\n",
       "      <td>Nidalee</td>\n",
       "      <td>Galio</td>\n",
       "      <td>Jhin</td>\n",
       "      <td>Pantheon</td>\n",
       "      <td>Camille</td>\n",
       "      <td>Olaf</td>\n",
       "      <td>Cassiopeia</td>\n",
       "      <td>Ezreal</td>\n",
       "      <td>Alistar</td>\n",
       "    </tr>\n",
       "    <tr>\n",
       "      <th>1</th>\n",
       "      <td>25m 38s</td>\n",
       "      <td>Defeat</td>\n",
       "      <td>Teemo</td>\n",
       "      <td>Nidalee</td>\n",
       "      <td>Lucian</td>\n",
       "      <td>Caitlyn</td>\n",
       "      <td>Senna</td>\n",
       "      <td>Irelia</td>\n",
       "      <td>Hecarim</td>\n",
       "      <td>Cassiopeia</td>\n",
       "      <td>Jinx</td>\n",
       "      <td>Lulu</td>\n",
       "    </tr>\n",
       "    <tr>\n",
       "      <th>2</th>\n",
       "      <td>25m 38s</td>\n",
       "      <td>Defeat</td>\n",
       "      <td>Malphite</td>\n",
       "      <td>Olaf</td>\n",
       "      <td>Taliyah</td>\n",
       "      <td>Ezreal</td>\n",
       "      <td>Alistar</td>\n",
       "      <td>Sylas</td>\n",
       "      <td>Lillia</td>\n",
       "      <td>Lucian</td>\n",
       "      <td>Senna</td>\n",
       "      <td>Pantheon</td>\n",
       "    </tr>\n",
       "    <tr>\n",
       "      <th>3</th>\n",
       "      <td>25m 38s</td>\n",
       "      <td>Defeat</td>\n",
       "      <td>Neeko</td>\n",
       "      <td>Shen</td>\n",
       "      <td>Orianna</td>\n",
       "      <td>Kai'Sa</td>\n",
       "      <td>Nautilus</td>\n",
       "      <td>Riven</td>\n",
       "      <td>Hecarim</td>\n",
       "      <td>Cassiopeia</td>\n",
       "      <td>Samira</td>\n",
       "      <td>Morgana</td>\n",
       "    </tr>\n",
       "    <tr>\n",
       "      <th>4</th>\n",
       "      <td>25m 38s</td>\n",
       "      <td>Defeat</td>\n",
       "      <td>Fiora</td>\n",
       "      <td>Nunu &amp; Willump</td>\n",
       "      <td>Irelia</td>\n",
       "      <td>Jhin</td>\n",
       "      <td>Karma</td>\n",
       "      <td>Renekton</td>\n",
       "      <td>Elise</td>\n",
       "      <td>Kled</td>\n",
       "      <td>Jinx</td>\n",
       "      <td>Morgana</td>\n",
       "    </tr>\n",
       "    <tr>\n",
       "      <th>5</th>\n",
       "      <td>25m 38s</td>\n",
       "      <td>Defeat</td>\n",
       "      <td>Irelia</td>\n",
       "      <td>Karthus</td>\n",
       "      <td>Sylas</td>\n",
       "      <td>Samira</td>\n",
       "      <td>Nautilus</td>\n",
       "      <td>Riven</td>\n",
       "      <td>Kayn</td>\n",
       "      <td>Akali</td>\n",
       "      <td>Miss Fortune</td>\n",
       "      <td>Galio</td>\n",
       "    </tr>\n",
       "    <tr>\n",
       "      <th>6</th>\n",
       "      <td>25m 38s</td>\n",
       "      <td>Defeat</td>\n",
       "      <td>Galio</td>\n",
       "      <td>Kindred</td>\n",
       "      <td>Syndra</td>\n",
       "      <td>Ezreal</td>\n",
       "      <td>Blitzcrank</td>\n",
       "      <td>Camille</td>\n",
       "      <td>Fiddlesticks</td>\n",
       "      <td>Twisted Fate</td>\n",
       "      <td>Jhin</td>\n",
       "      <td>Morgana</td>\n",
       "    </tr>\n",
       "    <tr>\n",
       "      <th>7</th>\n",
       "      <td>25m 38s</td>\n",
       "      <td>Defeat</td>\n",
       "      <td>Poppy</td>\n",
       "      <td>Ekko</td>\n",
       "      <td>Sylas</td>\n",
       "      <td>Samira</td>\n",
       "      <td>Blitzcrank</td>\n",
       "      <td>Lucian</td>\n",
       "      <td>Lillia</td>\n",
       "      <td>Lulu</td>\n",
       "      <td>Caitlyn</td>\n",
       "      <td>Alistar</td>\n",
       "    </tr>\n",
       "    <tr>\n",
       "      <th>8</th>\n",
       "      <td>25m 38s</td>\n",
       "      <td>Defeat</td>\n",
       "      <td>Shen</td>\n",
       "      <td>Lillia</td>\n",
       "      <td>Samira</td>\n",
       "      <td>Lucian</td>\n",
       "      <td>Soraka</td>\n",
       "      <td>Taric</td>\n",
       "      <td>Master Yi</td>\n",
       "      <td>Riven</td>\n",
       "      <td>Ezreal</td>\n",
       "      <td>Lulu</td>\n",
       "    </tr>\n",
       "    <tr>\n",
       "      <th>9</th>\n",
       "      <td>25m 38s</td>\n",
       "      <td>Defeat</td>\n",
       "      <td>Ornn</td>\n",
       "      <td>Graves</td>\n",
       "      <td>Sylas</td>\n",
       "      <td>Lucian</td>\n",
       "      <td>Alistar</td>\n",
       "      <td>Irelia</td>\n",
       "      <td>Hecarim</td>\n",
       "      <td>Akali</td>\n",
       "      <td>Senna</td>\n",
       "      <td>Leona</td>\n",
       "    </tr>\n",
       "  </tbody>\n",
       "</table>\n",
       "</div>"
      ],
      "text/plain": [
       "  game_length   result      top1             jg1     mid1     adc1  \\\n",
       "0     25m 38s  Victory     Riven         Nidalee    Galio     Jhin   \n",
       "1     25m 38s   Defeat     Teemo         Nidalee   Lucian  Caitlyn   \n",
       "2     25m 38s   Defeat  Malphite            Olaf  Taliyah   Ezreal   \n",
       "3     25m 38s   Defeat     Neeko            Shen  Orianna   Kai'Sa   \n",
       "4     25m 38s   Defeat     Fiora  Nunu & Willump   Irelia     Jhin   \n",
       "5     25m 38s   Defeat    Irelia         Karthus    Sylas   Samira   \n",
       "6     25m 38s   Defeat     Galio         Kindred   Syndra   Ezreal   \n",
       "7     25m 38s   Defeat     Poppy            Ekko    Sylas   Samira   \n",
       "8     25m 38s   Defeat      Shen          Lillia   Samira   Lucian   \n",
       "9     25m 38s   Defeat      Ornn          Graves    Sylas   Lucian   \n",
       "\n",
       "         sup1      top2           jg2          mid2          adc2      sup2  \n",
       "0    Pantheon   Camille          Olaf    Cassiopeia        Ezreal   Alistar  \n",
       "1       Senna    Irelia       Hecarim    Cassiopeia          Jinx      Lulu  \n",
       "2     Alistar     Sylas        Lillia        Lucian         Senna  Pantheon  \n",
       "3    Nautilus     Riven       Hecarim    Cassiopeia        Samira   Morgana  \n",
       "4       Karma  Renekton         Elise          Kled          Jinx   Morgana  \n",
       "5    Nautilus     Riven          Kayn         Akali  Miss Fortune     Galio  \n",
       "6  Blitzcrank   Camille  Fiddlesticks  Twisted Fate          Jhin   Morgana  \n",
       "7  Blitzcrank    Lucian        Lillia          Lulu       Caitlyn   Alistar  \n",
       "8      Soraka     Taric     Master Yi         Riven        Ezreal      Lulu  \n",
       "9     Alistar    Irelia       Hecarim         Akali         Senna     Leona  "
      ]
     },
     "execution_count": 208,
     "metadata": {},
     "output_type": "execute_result"
    }
   ],
   "source": [
    "data.head(10)\n"
   ]
  },
  {
   "cell_type": "code",
   "execution_count": 209,
   "metadata": {
    "scrolled": false
   },
   "outputs": [],
   "source": [
    "from sklearn.preprocessing import OneHotEncoder\n",
    "#y = pd.get_dummies(data.top1, prefix='top1')\n",
    "enc = OneHotEncoder()\n",
    "only_champs = data.drop(columns=['game_length', 'result'])\n",
    "only_champs.head(5)\n",
    "only_champs_onehot = enc.fit_transform(only_champs)\n"
   ]
  },
  {
   "cell_type": "code",
   "execution_count": 3,
   "metadata": {
    "scrolled": true
   },
   "outputs": [],
   "source": [
    "# print(only_champs_onehot)"
   ]
  },
  {
   "cell_type": "code",
   "execution_count": 2,
   "metadata": {
    "scrolled": true
   },
   "outputs": [],
   "source": [
    "# enc.categories_"
   ]
  },
  {
   "cell_type": "code",
   "execution_count": 1,
   "metadata": {
    "scrolled": true
   },
   "outputs": [],
   "source": [
    "# Convert game_length to float and normalize\n",
    "import re\n",
    "date_str = data.game_length\n",
    "m = 2717 #longest games are 45m 17s\n",
    "\n",
    "for i in range(len(date_str)):\n",
    "    if type(date_str[i]) == str:\n",
    "        p = re.compile('\\d*')\n",
    "        min = float(p.findall(date_str[i][:2])[0])\n",
    "        temp = p.findall(date_str[i][-3:])\n",
    "        for j in temp:\n",
    "            if j != '':\n",
    "                sec = float(j)\n",
    "                break\n",
    "        date_str[i] = (60*min+sec)/m\n",
    "    else: \n",
    "        date_str[i] = date_str[i]/m\n",
    "    print(date_str[i])\n",
    "print(len(date_str))"
   ]
  },
  {
   "cell_type": "code",
   "execution_count": 264,
   "metadata": {},
   "outputs": [
    {
     "name": "stdout",
     "output_type": "stream",
     "text": [
      "(4028, 754)\n",
      "(4028,)\n"
     ]
    }
   ],
   "source": [
    "# Now we have the X we want\n",
    "#except_champs = data.drop(columns=['result','top1','jg1','mid1','adc1','sup1','top2','jg2','mid2','adc2','sup2'])\n",
    "sparse_to_df = pd.DataFrame.sparse.from_spmatrix(only_champs_onehot)\n",
    "print(sparse_to_df.shape)\n",
    "print(date_str.shape)\n",
    "\n",
    "X = date_str.to_frame().join(sparse_to_df).dropna()\n",
    "X = np.asarray(X).astype('float32')"
   ]
  },
  {
   "cell_type": "code",
   "execution_count": 265,
   "metadata": {},
   "outputs": [
    {
     "name": "stdout",
     "output_type": "stream",
     "text": [
      "<class 'numpy.ndarray'>\n",
      "(4028, 755)\n"
     ]
    }
   ],
   "source": [
    "print(type(X))\n",
    "print(X.shape)\n",
    "# print(X.isnull())"
   ]
  },
  {
   "cell_type": "markdown",
   "metadata": {},
   "source": [
    "Train test set"
   ]
  },
  {
   "cell_type": "code",
   "execution_count": 270,
   "metadata": {},
   "outputs": [],
   "source": [
    "y = data['result']\n",
    "for i in range(len(y)):\n",
    "    if y[i] == \"Victory\":\n",
    "        y[i] = 1\n",
    "    else:\n",
    "        y[i] = 0"
   ]
  },
  {
   "cell_type": "code",
   "execution_count": 276,
   "metadata": {},
   "outputs": [],
   "source": [
    "y = np.asarray(y).astype('float32')"
   ]
  },
  {
   "cell_type": "markdown",
   "metadata": {},
   "source": [
    "## Datas are one hot encoded and cleaned up"
   ]
  },
  {
   "cell_type": "code",
   "execution_count": 277,
   "metadata": {},
   "outputs": [
    {
     "name": "stdout",
     "output_type": "stream",
     "text": [
      "(2577,)\n",
      "(2577, 755)\n"
     ]
    }
   ],
   "source": [
    "from sklearn.model_selection import train_test_split\n",
    "import math\n",
    "\n",
    "X_train_full, X_test, y_train_full, y_test = train_test_split(X,y,test_size=0.2, random_state=42)\n",
    "#len(X_train) = 3222\n",
    "l = math.floor(3222*0.8)\n",
    "X_valid, X_train = X_train_full[:l], X_train_full[l:]\n",
    "y_valid, y_train = y_train_full[:l], y_train_full[l:]\n",
    "print(y_valid.shape)\n",
    "print(X_valid.shape)\n"
   ]
  },
  {
   "cell_type": "code",
   "execution_count": 288,
   "metadata": {},
   "outputs": [],
   "source": [
    "model = keras.models.Sequential([\n",
    "    keras.layers.Flatten(input_shape=(755,)),\n",
    "    keras.layers.Dense(30, activation=\"relu\", name=\"layer_1\"),\n",
    "    keras.layers.Dropout(rate=0.2),\n",
    "    keras.layers.Dense(16, activation=\"relu\", name=\"layer_2\"),\n",
    "    keras.layers.Dropout(rate=0.2),\n",
    "    keras.layers.Dense(16, activation=\"relu\", name=\"layer_3\"),\n",
    "    keras.layers.Dropout(rate=0.2),\n",
    "    keras.layers.Dense(1, activation=\"sigmoid\", name=\"layer_4\")\n",
    "])"
   ]
  },
  {
   "cell_type": "code",
   "execution_count": 294,
   "metadata": {},
   "outputs": [
    {
     "name": "stdout",
     "output_type": "stream",
     "text": [
      "Model: \"sequential_19\"\n",
      "_________________________________________________________________\n",
      "Layer (type)                 Output Shape              Param #   \n",
      "=================================================================\n",
      "flatten_7 (Flatten)          (None, 755)               0         \n",
      "_________________________________________________________________\n",
      "layer_1 (Dense)              (None, 30)                22680     \n",
      "_________________________________________________________________\n",
      "dropout_2 (Dropout)          (None, 30)                0         \n",
      "_________________________________________________________________\n",
      "layer_2 (Dense)              (None, 16)                496       \n",
      "_________________________________________________________________\n",
      "dropout_3 (Dropout)          (None, 16)                0         \n",
      "_________________________________________________________________\n",
      "layer_3 (Dense)              (None, 16)                272       \n",
      "_________________________________________________________________\n",
      "dropout_4 (Dropout)          (None, 16)                0         \n",
      "_________________________________________________________________\n",
      "layer_4 (Dense)              (None, 1)                 17        \n",
      "=================================================================\n",
      "Total params: 23,465\n",
      "Trainable params: 23,465\n",
      "Non-trainable params: 0\n",
      "_________________________________________________________________\n"
     ]
    }
   ],
   "source": [
    "model.compile(loss=\"binary_crossentropy\", optimizer=\"adam\", metrics=[\"accuracy\"])\n",
    "model.summary()"
   ]
  },
  {
   "cell_type": "code",
   "execution_count": 295,
   "metadata": {
    "scrolled": false
   },
   "outputs": [
    {
     "name": "stdout",
     "output_type": "stream",
     "text": [
      "Epoch 1/50\n",
      "  1/645 [..............................] - ETA: 0s - loss: 0.1118 - accuracy: 1.0000WARNING:tensorflow:Callbacks method `on_train_batch_end` is slow compared to the batch time (batch time: 0.0000s vs `on_train_batch_end` time: 0.0010s). Check your callbacks.\n",
      "645/645 [==============================] - 1s 836us/step - loss: 0.1290 - accuracy: 0.9349\n",
      "Epoch 2/50\n",
      "645/645 [==============================] - 0s 722us/step - loss: 0.1224 - accuracy: 0.9364\n",
      "Epoch 3/50\n",
      "645/645 [==============================] - 0s 678us/step - loss: 0.1079 - accuracy: 0.9411\n",
      "Epoch 4/50\n",
      "645/645 [==============================] - 0s 753us/step - loss: 0.1098 - accuracy: 0.9349\n",
      "Epoch 5/50\n",
      "645/645 [==============================] - 0s 711us/step - loss: 0.0981 - accuracy: 0.9535\n",
      "Epoch 6/50\n",
      "645/645 [==============================] - 0s 713us/step - loss: 0.1107 - accuracy: 0.9318\n",
      "Epoch 7/50\n",
      "645/645 [==============================] - 0s 718us/step - loss: 0.0952 - accuracy: 0.9442\n",
      "Epoch 8/50\n",
      "645/645 [==============================] - 1s 784us/step - loss: 0.1065 - accuracy: 0.9318\n",
      "Epoch 9/50\n",
      "645/645 [==============================] - 0s 726us/step - loss: 0.1096 - accuracy: 0.9442\n",
      "Epoch 10/50\n",
      "645/645 [==============================] - 0s 734us/step - loss: 0.1000 - accuracy: 0.9333\n",
      "Epoch 11/50\n",
      "645/645 [==============================] - 0s 704us/step - loss: 0.1023 - accuracy: 0.9426\n",
      "Epoch 12/50\n",
      "645/645 [==============================] - 0s 708us/step - loss: 0.0947 - accuracy: 0.9488\n",
      "Epoch 13/50\n",
      "645/645 [==============================] - 0s 700us/step - loss: 0.0898 - accuracy: 0.9504\n",
      "Epoch 14/50\n",
      "645/645 [==============================] - 0s 704us/step - loss: 0.0926 - accuracy: 0.9411\n",
      "Epoch 15/50\n",
      "645/645 [==============================] - 0s 705us/step - loss: 0.0879 - accuracy: 0.9457\n",
      "Epoch 16/50\n",
      "645/645 [==============================] - 0s 727us/step - loss: 0.0881 - accuracy: 0.9488\n",
      "Epoch 17/50\n",
      "645/645 [==============================] - 0s 742us/step - loss: 0.0854 - accuracy: 0.9442\n",
      "Epoch 18/50\n",
      "645/645 [==============================] - 0s 717us/step - loss: 0.0937 - accuracy: 0.9473\n",
      "Epoch 19/50\n",
      "645/645 [==============================] - 0s 702us/step - loss: 0.0855 - accuracy: 0.9504\n",
      "Epoch 20/50\n",
      "645/645 [==============================] - 0s 725us/step - loss: 0.0879 - accuracy: 0.9426\n",
      "Epoch 21/50\n",
      "645/645 [==============================] - 0s 699us/step - loss: 0.0858 - accuracy: 0.9333\n",
      "Epoch 22/50\n",
      "645/645 [==============================] - 0s 698us/step - loss: 0.0862 - accuracy: 0.9488\n",
      "Epoch 23/50\n",
      "645/645 [==============================] - 0s 726us/step - loss: 0.0938 - accuracy: 0.9395\n",
      "Epoch 24/50\n",
      "645/645 [==============================] - 0s 736us/step - loss: 0.0823 - accuracy: 0.9488\n",
      "Epoch 25/50\n",
      "645/645 [==============================] - 1s 801us/step - loss: 0.0856 - accuracy: 0.9535\n",
      "Epoch 26/50\n",
      "645/645 [==============================] - 0s 742us/step - loss: 0.0773 - accuracy: 0.9566\n",
      "Epoch 27/50\n",
      "645/645 [==============================] - 0s 721us/step - loss: 0.0969 - accuracy: 0.9395\n",
      "Epoch 28/50\n",
      "645/645 [==============================] - 0s 713us/step - loss: 0.0792 - accuracy: 0.9550\n",
      "Epoch 29/50\n",
      "645/645 [==============================] - 0s 704us/step - loss: 0.0892 - accuracy: 0.9442\n",
      "Epoch 30/50\n",
      "645/645 [==============================] - 0s 736us/step - loss: 0.0934 - accuracy: 0.9457\n",
      "Epoch 31/50\n",
      "645/645 [==============================] - 0s 716us/step - loss: 0.0855 - accuracy: 0.9535\n",
      "Epoch 32/50\n",
      "645/645 [==============================] - 0s 724us/step - loss: 0.0835 - accuracy: 0.9566\n",
      "Epoch 33/50\n",
      "645/645 [==============================] - 0s 720us/step - loss: 0.0814 - accuracy: 0.9426\n",
      "Epoch 34/50\n",
      "645/645 [==============================] - 0s 722us/step - loss: 0.0797 - accuracy: 0.9457\n",
      "Epoch 35/50\n",
      "645/645 [==============================] - 0s 708us/step - loss: 0.0749 - accuracy: 0.9488\n",
      "Epoch 36/50\n",
      "645/645 [==============================] - 0s 718us/step - loss: 0.0829 - accuracy: 0.9426\n",
      "Epoch 37/50\n",
      "645/645 [==============================] - 0s 727us/step - loss: 0.0769 - accuracy: 0.9504\n",
      "Epoch 38/50\n",
      "645/645 [==============================] - 0s 712us/step - loss: 0.0840 - accuracy: 0.9442\n",
      "Epoch 39/50\n",
      "645/645 [==============================] - 0s 705us/step - loss: 0.0774 - accuracy: 0.9411\n",
      "Epoch 40/50\n",
      "645/645 [==============================] - 0s 717us/step - loss: 0.0891 - accuracy: 0.9426\n",
      "Epoch 41/50\n",
      "645/645 [==============================] - 0s 737us/step - loss: 0.0987 - accuracy: 0.9380\n",
      "Epoch 42/50\n",
      "645/645 [==============================] - 0s 699us/step - loss: 0.0987 - accuracy: 0.9426\n",
      "Epoch 43/50\n",
      "645/645 [==============================] - 0s 727us/step - loss: 0.0928 - accuracy: 0.9488\n",
      "Epoch 44/50\n",
      "645/645 [==============================] - 0s 714us/step - loss: 0.0830 - accuracy: 0.9519\n",
      "Epoch 45/50\n",
      "645/645 [==============================] - 0s 761us/step - loss: 0.0904 - accuracy: 0.9457\n",
      "Epoch 46/50\n",
      "645/645 [==============================] - 0s 741us/step - loss: 0.0859 - accuracy: 0.9426\n",
      "Epoch 47/50\n",
      "645/645 [==============================] - 0s 722us/step - loss: 0.0741 - accuracy: 0.9473\n",
      "Epoch 48/50\n",
      "645/645 [==============================] - 0s 714us/step - loss: 0.0792 - accuracy: 0.9395\n",
      "Epoch 49/50\n",
      "645/645 [==============================] - 0s 712us/step - loss: 0.0768 - accuracy: 0.9426\n",
      "Epoch 50/50\n",
      "645/645 [==============================] - 0s 732us/step - loss: 0.0946 - accuracy: 0.9457\n"
     ]
    },
    {
     "data": {
      "text/plain": [
       "<tensorflow.python.keras.callbacks.History at 0x1cf07241a30>"
      ]
     },
     "execution_count": 295,
     "metadata": {},
     "output_type": "execute_result"
    }
   ],
   "source": [
    "model.fit(X_train, y_train, epochs=50, batch_size=1)"
   ]
  },
  {
   "cell_type": "code",
   "execution_count": 296,
   "metadata": {},
   "outputs": [
    {
     "name": "stdout",
     "output_type": "stream",
     "text": [
      "26/26 [==============================] - 0s 806us/step - loss: 4.0762 - accuracy: 0.6464\n",
      "accuracy 0.6464020013809204\n"
     ]
    }
   ],
   "source": [
    "test_loss, test_acc = model.evaluate(X_test, y_test)\n",
    "print('accuracy', test_acc)"
   ]
  },
  {
   "cell_type": "markdown",
   "metadata": {},
   "source": [
    "We got about 0.646 accuracy with just raw neural network with dropouts."
   ]
  },
  {
   "cell_type": "markdown",
   "metadata": {},
   "source": [
    "## Don't have a clue how to improve yet I'll come back next time"
   ]
  },
  {
   "cell_type": "markdown",
   "metadata": {},
   "source": [
    "- Convolution doesn't work although I could try.. positions matter?\n",
    "- Should try Regression or randome forest"
   ]
  },
  {
   "cell_type": "code",
   "execution_count": null,
   "metadata": {},
   "outputs": [],
   "source": []
  }
 ],
 "metadata": {
  "kernelspec": {
   "display_name": "Python 3",
   "language": "python",
   "name": "python3"
  },
  "language_info": {
   "codemirror_mode": {
    "name": "ipython",
    "version": 3
   },
   "file_extension": ".py",
   "mimetype": "text/x-python",
   "name": "python",
   "nbconvert_exporter": "python",
   "pygments_lexer": "ipython3",
   "version": "3.8.3"
  }
 },
 "nbformat": 4,
 "nbformat_minor": 4
}
